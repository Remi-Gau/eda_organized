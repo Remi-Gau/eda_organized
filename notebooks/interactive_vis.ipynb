{
 "cells": [
  {
   "cell_type": "markdown",
   "metadata": {},
   "source": [
    "### This notebook contains a simple implementation to visualize `MTR` weighted fibers interactively\n",
    "* For the transformations, the same convention in the Octave/MATLAB scripts were followed \n",
    "\n",
    "**Note:** Implementations in this repository are NOT intended for research, for demonstration ONLY."
   ]
  },
  {
   "cell_type": "code",
   "execution_count": null,
   "metadata": {},
   "outputs": [],
   "source": [
    "import scipy.io as sio\n",
    "import numpy as np\n",
    "import plotly.graph_objects as go\n",
    "import plotly.express as px\n",
    "from scipy import ndimage"
   ]
  },
  {
   "cell_type": "code",
   "execution_count": null,
   "metadata": {},
   "outputs": [],
   "source": [
    "# Do not forget to change file directory if running locally\n",
    "fname = '/home/jovyan/work/Eda_Data/S2/visdata/inputVolumes.mat'\n",
    "mri = sio.loadmat(fname, struct_as_record=True)"
   ]
  },
  {
   "cell_type": "code",
   "execution_count": null,
   "metadata": {},
   "outputs": [],
   "source": [
    "fname2 = '/home/jovyan/work/Eda_Data/S2/visdata/interpolated_500.mat'\n",
    "tfibers = sio.loadmat(fname2, struct_as_record=True)\n",
    "fibers = tfibers['interpolatedFibers'] # fibers[:,0] fibers[:,1] fibers[:,2]"
   ]
  },
  {
   "cell_type": "code",
   "execution_count": null,
   "metadata": {},
   "outputs": [],
   "source": [
    "mtOn = mri['data'][0,0]['mtOn']\n",
    "volume = mtOn.reshape(256,256,50)"
   ]
  },
  {
   "cell_type": "code",
   "execution_count": null,
   "metadata": {},
   "outputs": [],
   "source": [
    "header = mri['header'][0,0]['mtOn']\n",
    "spacing = np.diag(header['spacing'][0][0][0])\n",
    "origin = header['origin'][0][0][0]\n",
    "direction = np.diag([1,1,1])"
   ]
  },
  {
   "cell_type": "code",
   "execution_count": null,
   "metadata": {},
   "outputs": [],
   "source": [
    "def getXyz(direction,origin,spacing,ijk):\n",
    "    x = np.matmul(direction,spacing)\n",
    "    v = np.matmul(x,ijk) + origin\n",
    "    return v\n",
    "    \n",
    "def getDomain(xSize,ySize, zPoint):\n",
    "    lwr = getXyz(direction,origin,spacing,[1,1,zPoint])\n",
    "    upr = getXyz(direction,origin,spacing,[xSize,ySize,zPoint])\n",
    "    x = np.linspace(lwr[0], upr[0], xSize)\n",
    "    y = np.linspace(lwr[1], upr[1], ySize)\n",
    "    z = lwr[2]\n",
    "    return x,y,z\n",
    "\n",
    "def getTrace(fib,scalar,cmn,cmx):\n",
    "    trace=go.Scatter3d(\n",
    "     x=fib[:,0], y=fib[:,1], z=fib[:,2],\n",
    "     mode ='lines', \n",
    "     projection = dict(x = dict(show = False),\n",
    "                  y = dict(show = False),\n",
    "                  z = dict(show = False)),   \n",
    "     opacity =0.7,\n",
    "     text = fib[:,scalar+2] ,    \n",
    "     line=dict(\n",
    "        colorscale='Viridis',\n",
    "        width=4,\n",
    "        color=fib[:,scalar+2],\n",
    "        cmin=cmn,\n",
    "         cmax=cmx  \n",
    "        )\n",
    "    )\n",
    "\n",
    "    return trace"
   ]
  },
  {
   "cell_type": "code",
   "execution_count": null,
   "metadata": {},
   "outputs": [],
   "source": [
    "x,y,z = getDomain(256,256,25)\n",
    "\n",
    "def getPlot(sclr,cmn,cmx):\n",
    "    fig = go.Figure()\n",
    "    r, c = cc[0].shape\n",
    "    fig.add_trace(go.Surface(\n",
    "        z=z* np.ones((256, 256)),\n",
    "        x=x,y=y,\n",
    "        opacity = 0.85,\n",
    "        showscale=False,\n",
    "        surfacecolor= ndimage.rotate(np.fliplr(cc[:,:,30]),90,reshape=False),\n",
    "        colorscale='Gray',\n",
    "        cmin=0, cmax=3000,\n",
    "        colorbar=dict(thickness=20, ticklen=4)\n",
    "        ))\n",
    "\n",
    "    for i in range(500):\n",
    "        fig.add_trace(getTrace(np.array(fibers[0,i]['matrix']),sclr,cmn,cmx))\n",
    "    \n",
    "    return fig    "
   ]
  },
  {
   "cell_type": "markdown",
   "metadata": {},
   "source": [
    "<center> <h1> ⚠️ </h1> <center>\n",
    "<center> <h3 style=\"color:red;\">I did not calculate the exact transformation from <code>dwi</code> to <code>MTR</code> space! </h3></center>\n",
    "\n",
    "<center> <h4 style=\"color:coral;\"> I tweaked the (inverse of the) affine transformation created by DSI studio after importing anatomical images and used it for transforming fiber node coordinates to <u style=\"color:red;\">roughly align</u> with a single slice.  </h4></center><br>\n",
    "\n",
    "\n",
    "<center> Therefore alignment of these fibers with the <code>MTR</code> domain is far from convenient. "
   ]
  },
  {
   "cell_type": "markdown",
   "metadata": {},
   "source": [
    "#### Color range of the nodal  `MTR` values are adjusted on purpose to highlight the consequences of imperfect alignment\n",
    "\n",
    "You can tell by the appearence of the ventricles pattern on the <code>MTR weighted</code> tracts that are actually crossing corpus callosum in `dwi` space."
   ]
  },
  {
   "cell_type": "code",
   "execution_count": null,
   "metadata": {
    "scrolled": false
   },
   "outputs": [],
   "source": [
    "fig = getPlot(1,-50,18) # Nodal MTR\n",
    "fig.layout.showlegend = False\n",
    "fig.show()"
   ]
  },
  {
   "cell_type": "code",
   "execution_count": null,
   "metadata": {},
   "outputs": [],
   "source": [
    "fig2 = getPlot(2,-50,-20) # Avg MTR\n",
    "fig2.layout.showlegend = False\n",
    "fig2.show()"
   ]
  }
 ],
 "metadata": {
  "kernelspec": {
   "display_name": "Python 3",
   "language": "python",
   "name": "python3"
  },
  "language_info": {
   "codemirror_mode": {
    "name": "ipython",
    "version": 3
   },
   "file_extension": ".py",
   "mimetype": "text/x-python",
   "name": "python",
   "nbconvert_exporter": "python",
   "pygments_lexer": "ipython3",
   "version": "3.6.5"
  }
 },
 "nbformat": 4,
 "nbformat_minor": 2
}
