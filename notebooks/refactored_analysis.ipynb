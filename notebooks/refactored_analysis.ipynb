{
 "cells": [
  {
   "cell_type": "markdown",
   "metadata": {},
   "source": [
    "<img src=\"https://mfr.osf.io/export?url=https://osf.io/69jyx/?direct%26mode=render%26action=download%26public_file=True&initialWidth=684&childId=mfrIframe&parentTitle=OSF+%7C+banner.png&parentUrl=https://osf.io/69jyx/&format=1200x1200.jpeg\" style=\"width:600px;\"></img>"
   ]
  },
  {
   "cell_type": "markdown",
   "metadata": {},
   "source": [
    "<center> <h1> ⚠️ </h1> <center>\n",
    "<center> <h3 style=\"color:purple;\"> Spatial transformations in this repository are for <u >demonstration only</u>!</h3></center>\n",
    "\n",
    "<center> <h3 style=\"color:red;\">I did not calculate the exact transformation from <code>dwi</code> to <code>MTR</code> space! </h3></center><br>\n",
    "\n",
    "\n",
    "<center> The fibers are roughly aligned with the <code>MTR</code> volume just for the sake of demonstration. Despite that the interpolation algorithm (<code>idw3dInterp</code>) is sensible, due to imperfect alignment, <code>MTR</code> values are likely to be misregistered on the tracked corpus callosum fibers </center>"
   ]
  },
  {
   "cell_type": "markdown",
   "metadata": {},
   "source": [
    "## Octave is a bit verbose with warnings, let's silence them for now"
   ]
  },
  {
   "cell_type": "code",
   "execution_count": null,
   "metadata": {},
   "outputs": [],
   "source": [
    "warning (\"off\",\"all\")"
   ]
  },
  {
   "cell_type": "markdown",
   "metadata": {},
   "source": [
    "\n",
    "### Let's start by `initEnv` to \n",
    "* Add everything we need to the Octave's search path\n",
    "* Load Octave packages we need"
   ]
  },
  {
   "cell_type": "code",
   "execution_count": null,
   "metadata": {},
   "outputs": [],
   "source": [
    "# we need navigate to the upper directory as this notebook is placed in a folder\n",
    "cd('..');\n",
    "# Initialize\n",
    "initEnv;"
   ]
  },
  {
   "cell_type": "markdown",
   "metadata": {},
   "source": [
    "### Now we will use the data from the `Eda_Data` directory\n",
    "* Let's use S2 "
   ]
  },
  {
   "cell_type": "code",
   "execution_count": null,
   "metadata": {},
   "outputs": [],
   "source": [
    "dataDir = [pwd '/Eda_Data/S2/'];"
   ]
  },
  {
   "cell_type": "markdown",
   "metadata": {},
   "source": [
    "## Calling our first function `getData` \n",
    "* `mtOn.nii`\n",
    "* `mtOff.nii`\n",
    "* `CC_50.trk` (Less number of tracts for Octave)"
   ]
  },
  {
   "cell_type": "code",
   "execution_count": null,
   "metadata": {},
   "outputs": [],
   "source": [
    "[data,header]  = getData([dataDir 'mtOn.nii'],[dataDir 'mtOff.nii'],[dataDir 'CC_50.trk']);"
   ]
  },
  {
   "cell_type": "code",
   "execution_count": null,
   "metadata": {},
   "outputs": [],
   "source": [
    "%plot inline -w 800 -h 300\n",
    "subplot(1,2,1); imagesc(data.mtOn(:,:,30)); title('MTon image');\n",
    "subplot(1,2,2); imagesc(data.mtOff(:,:,30)); title('MToff image');"
   ]
  },
  {
   "cell_type": "markdown",
   "metadata": {},
   "source": [
    "### Read affine transformation with `readTransformation` function"
   ]
  },
  {
   "cell_type": "code",
   "execution_count": null,
   "metadata": {},
   "outputs": [],
   "source": [
    "affineTransform = readTransformation([dataDir 'transform.txt']);"
   ]
  },
  {
   "cell_type": "markdown",
   "metadata": {},
   "source": [
    "### Use `transformFibers` to nicely align fibers with structural images"
   ]
  },
  {
   "cell_type": "code",
   "execution_count": null,
   "metadata": {},
   "outputs": [],
   "source": [
    "transformedFibers = transformFibers(data.fibers,header.mtOn.origin,affineTransform);"
   ]
  },
  {
   "cell_type": "markdown",
   "metadata": {},
   "source": [
    "### Now `plotSlice` and  `trk_plot` to see if fibers are aligned with the image\n",
    "* This one may take a bit longer \n",
    "* Octave 3D surf plot does not look good in Jupyter Notebooks. But don't worry, we have a solution!"
   ]
  },
  {
   "cell_type": "code",
   "execution_count": null,
   "metadata": {},
   "outputs": [],
   "source": [
    "plotSlice(data.mtOn(:,:,30),header.mtOn,30,'hold','on')\n",
    "trk_plot(header.fibers,transformedFibers);"
   ]
  },
  {
   "cell_type": "markdown",
   "metadata": {},
   "source": [
    "## Another good software practice is not to reinvent the wheel\n",
    "\n",
    "* Remember that this Docker image was based on `qmrlab/octjc:v2.4.0`, which comes with `qMRLab`, a tool to do quantiative MRI analysis! \n",
    "\n",
    "* To calculate `MTR`, let's use `qMRLab`. You can see the [`MTR` documentation](https://qmrlab.readthedocs.io/en/master/mt_ratio_batch.html).\n",
    "\n",
    "<center> <h1> 🐳 </h1> <center>\n",
    "    \n",
    "<h3 style=\"color:red;\"> If you are executing this notebook in <code>Binder</code> or using <code>Docker</code>, calculate the <code>MTR</code> in the cell below using <code>qMRLab</code>. <br><br> Otherwise, proceed to the next red-colored text :) </h3>\n"
   ]
  },
  {
   "cell_type": "markdown",
   "metadata": {},
   "source": [
    "#### Calculate `MTR` image using `qMRLab`"
   ]
  },
  {
   "cell_type": "code",
   "execution_count": null,
   "metadata": {},
   "outputs": [],
   "source": [
    "model = mt_ratio;\n",
    "% Load data into qMRLab\n",
    "Data.MToff = data.mtOn;\n",
    "Data.MTon = data.mtOff;\n",
    "FitResults = FitData(Data,model,0);"
   ]
  },
  {
   "cell_type": "markdown",
   "metadata": {},
   "source": [
    "#### Display `MTR` image"
   ]
  },
  {
   "cell_type": "code",
   "execution_count": null,
   "metadata": {},
   "outputs": [],
   "source": [
    "qMRshowOutput(FitResults,data,model);"
   ]
  },
  {
   "cell_type": "markdown",
   "metadata": {},
   "source": [
    "#### Save `MTR` image in the coordinates of  `mtOn.nii`  to the directory  `dataDir`"
   ]
  },
  {
   "cell_type": "code",
   "execution_count": null,
   "metadata": {},
   "outputs": [],
   "source": [
    "FitResultsSave_nii(FitResults, [dataDir 'mtOn.nii'], dataDir);"
   ]
  },
  {
   "cell_type": "code",
   "execution_count": null,
   "metadata": {},
   "outputs": [],
   "source": [
    "MTR = FitResults.MTR;"
   ]
  },
  {
   "cell_type": "markdown",
   "metadata": {},
   "source": [
    "Remember that `MTR` is just one of the many qMRI methods! To see what else is possible with qMRLab, you can visit [here](https://qmrlab.org)!"
   ]
  },
  {
   "cell_type": "markdown",
   "metadata": {},
   "source": [
    "<center> <h1> 💻 </h1> <center>\n",
    "    \n",
    "<h3 style=\"color:red;\"> If you are NOT executing this notebook in <code>Binder</code> or using <code>Docker</code>, calculate the <code>MTR</code> in the cell below </h3>\n",
    "\n"
   ]
  },
  {
   "cell_type": "code",
   "execution_count": null,
   "metadata": {},
   "outputs": [],
   "source": [
    "MTR = getMtr(data.mtOn,data.mtOff);"
   ]
  },
  {
   "cell_type": "markdown",
   "metadata": {},
   "source": [
    "## Perform inverse distance weighted interpolation of  `MTR`  along corpus callosum tracts\n"
   ]
  },
  {
   "cell_type": "code",
   "execution_count": null,
   "metadata": {},
   "outputs": [],
   "source": [
    "[interpolatedHeader,interpolatedFibers] = idw3dInterp(header.fibers,transformedFibers,header.mtOn,MTR);"
   ]
  },
  {
   "cell_type": "markdown",
   "metadata": {},
   "source": [
    "## Save `MTR` weighted fibers as `*.trk` file\n",
    "* You can download them to your local and visualize using your favorite viewer.\n",
    "* **You will find the fibers in the same directory you loaded the input data from.**"
   ]
  },
  {
   "cell_type": "code",
   "execution_count": null,
   "metadata": {},
   "outputs": [],
   "source": [
    "trk_write(interpolatedHeader,interpolatedFibers,[dataDir 'cc_mtr.trk']);"
   ]
  },
  {
   "cell_type": "markdown",
   "metadata": {},
   "source": [
    "## Save ` MTR` weighted fibers in MATLAB compatible `*.mat` format\n",
    "* We will read them in another notebook\n",
    "\n",
    "**Note:** To be able to read `mat` files saved by Octave in MATLAB, you need to pass **`-mat7-binary`** argument"
   ]
  },
  {
   "cell_type": "code",
   "execution_count": null,
   "metadata": {},
   "outputs": [],
   "source": [
    "save 'mtrFibers.mat' 'interpolatedHeader' 'interpolatedFibers'"
   ]
  },
  {
   "cell_type": "markdown",
   "metadata": {},
   "source": [
    "## Display `MTR` fibers \n",
    "\n",
    "\n",
    "> Inline plot with scalars is going to fail in Octave due to a bug in `trk_plot`, but no worries, I prepared you another notebook for interactive visualization! \n",
    "\n",
    "#### See the [interactive visualization notebook](interactive_vis.ipynb)"
   ]
  }
 ],
 "metadata": {
  "kernelspec": {
   "display_name": "Octave",
   "language": "octave",
   "name": "octave"
  },
  "language_info": {
   "file_extension": ".m",
   "help_links": [
    {
     "text": "GNU Octave",
     "url": "https://www.gnu.org/software/octave/support.html"
    },
    {
     "text": "Octave Kernel",
     "url": "https://github.com/Calysto/octave_kernel"
    },
    {
     "text": "MetaKernel Magics",
     "url": "https://metakernel.readthedocs.io/en/latest/source/README.html"
    }
   ],
   "mimetype": "text/x-octave",
   "name": "octave",
   "version": "4.2.2"
  }
 },
 "nbformat": 4,
 "nbformat_minor": 2
}
